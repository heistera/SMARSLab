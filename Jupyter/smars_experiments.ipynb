{
 "cells": [
  {
   "cell_type": "code",
   "execution_count": 1,
   "metadata": {},
   "outputs": [],
   "source": [
    "from smars_library.smars_library import SmarsRobot"
   ]
  },
  {
   "cell_type": "code",
   "execution_count": 2,
   "metadata": {},
   "outputs": [
    {
     "output_type": "stream",
     "name": "stdout",
     "text": [
      "*** Initialising Robot ***\n"
     ]
    }
   ],
   "source": [
    "robot = SmarsRobot()"
   ]
  },
  {
   "cell_type": "code",
   "execution_count": 3,
   "metadata": {},
   "outputs": [
    {
     "name": "stdout",
     "output_type": "stream",
     "text": [
      "*** Kevin Online ***\n"
     ]
    }
   ],
   "source": [
    "robot.name = \"Kevin\""
   ]
  },
  {
   "cell_type": "code",
   "execution_count": 4,
   "metadata": {},
   "outputs": [
    {
     "name": "stdout",
     "output_type": "stream",
     "text": [
      "Kevin standing up.\n"
     ]
    }
   ],
   "source": [
    "robot.stand()"
   ]
  },
  {
   "cell_type": "code",
   "execution_count": 5,
   "metadata": {},
   "outputs": [
    {
     "name": "stdout",
     "output_type": "stream",
     "text": [
      "Kevin sitting Down.\n"
     ]
    }
   ],
   "source": [
    "robot.sit()"
   ]
  },
  {
   "cell_type": "code",
   "execution_count": 6,
   "metadata": {},
   "outputs": [],
   "source": [
    "robot.default()"
   ]
  },
  {
   "cell_type": "code",
   "execution_count": 7,
   "metadata": {},
   "outputs": [
    {
     "name": "stdout",
     "output_type": "stream",
     "text": [
      "Wiggling\n",
      "Kevin sitting Down.\n",
      "Kevin standing up.\n"
     ]
    }
   ],
   "source": [
    "robot.wiggle(1)"
   ]
  },
  {
   "cell_type": "code",
   "execution_count": 8,
   "metadata": {},
   "outputs": [
    {
     "name": "stdout",
     "output_type": "stream",
     "text": [
      "Clapping\n",
      "Kevin sitting Down.\n",
      "Kevin standing up.\n"
     ]
    }
   ],
   "source": [
    "robot.clap(1)"
   ]
  },
  {
   "cell_type": "code",
   "execution_count": 9,
   "metadata": {},
   "outputs": [
    {
     "data": {
      "text/plain": [
       "['_SmarsRobot__debug',\n",
       " '_SmarsRobot__feet',\n",
       " '_SmarsRobot__legs',\n",
       " '_SmarsRobot__name',\n",
       " '__class__',\n",
       " '__delattr__',\n",
       " '__dict__',\n",
       " '__dir__',\n",
       " '__doc__',\n",
       " '__eq__',\n",
       " '__format__',\n",
       " '__ge__',\n",
       " '__getattribute__',\n",
       " '__gt__',\n",
       " '__hash__',\n",
       " '__init__',\n",
       " '__init_subclass__',\n",
       " '__le__',\n",
       " '__lt__',\n",
       " '__module__',\n",
       " '__ne__',\n",
       " '__new__',\n",
       " '__reduce__',\n",
       " '__reduce_ex__',\n",
       " '__repr__',\n",
       " '__setattr__',\n",
       " '__sizeof__',\n",
       " '__str__',\n",
       " '__subclasshook__',\n",
       " '__weakref__',\n",
       " 'backward',\n",
       " 'clap',\n",
       " 'debug',\n",
       " 'default',\n",
       " 'forward',\n",
       " 'get_telemetry',\n",
       " 'help',\n",
       " 'invert_feet',\n",
       " 'leg_reset',\n",
       " 'middle',\n",
       " 'name',\n",
       " 'setname',\n",
       " 'sit',\n",
       " 'stand',\n",
       " 'swing',\n",
       " 'turnleft',\n",
       " 'turnright',\n",
       " 'type',\n",
       " 'walkbackward',\n",
       " 'walkforward',\n",
       " 'wiggle']"
      ]
     },
     "execution_count": 9,
     "metadata": {},
     "output_type": "execute_result"
    }
   ],
   "source": [
    "dir(robot)"
   ]
  },
  {
   "cell_type": "code",
   "execution_count": 10,
   "metadata": {},
   "outputs": [],
   "source": [
    "robot.swing()"
   ]
  },
  {
   "cell_type": "code",
   "execution_count": 11,
   "metadata": {},
   "outputs": [
    {
     "name": "stdout",
     "output_type": "stream",
     "text": [
      "This Robot accepts the following commands:\n",
      "forward(<steps>)\n",
      "backward(<steps>)\n",
      "turnleft()\n",
      "turnright()\n",
      "clap()\n",
      "wiggle()\n",
      "get_telemetry()\n",
      "stand()\n",
      "sit()\n",
      "swing()\n",
      "body()\n",
      "default()\n"
     ]
    }
   ],
   "source": [
    "robot.help()"
   ]
  },
  {
   "cell_type": "code",
   "execution_count": 12,
   "metadata": {},
   "outputs": [
    {
     "name": "stdout",
     "output_type": "stream",
     "text": [
      "Moving Forward\n",
      "Kevin sitting Down.\n",
      "Kevin standing up.\n"
     ]
    }
   ],
   "source": [
    "robot.forward(1)"
   ]
  },
  {
   "cell_type": "code",
   "execution_count": 64,
   "metadata": {},
   "outputs": [],
   "source": [
    "robot.default()"
   ]
  },
  {
   "cell_type": "code",
   "execution_count": 63,
   "metadata": {},
   "outputs": [
    {
     "name": "stdout",
     "output_type": "stream",
     "text": [
      "Moving Forward\n",
      "Kevin sitting Down.\n",
      "Kevin standing up.\n"
     ]
    }
   ],
   "source": [
    "robot.forward(1)"
   ]
  },
  {
   "cell_type": "code",
   "execution_count": 62,
   "metadata": {},
   "outputs": [],
   "source": [
    "robot.leg_reset()"
   ]
  },
  {
   "cell_type": "code",
   "execution_count": 65,
   "metadata": {},
   "outputs": [],
   "source": [
    "robot.swing()"
   ]
  },
  {
   "cell_type": "code",
   "execution_count": 22,
   "metadata": {},
   "outputs": [
    {
     "name": "stdout",
     "output_type": "stream",
     "text": [
      "Kevin Turning left.\n"
     ]
    }
   ],
   "source": [
    "robot.turnleft()"
   ]
  },
  {
   "cell_type": "code",
   "execution_count": 23,
   "metadata": {},
   "outputs": [
    {
     "name": "stdout",
     "output_type": "stream",
     "text": [
      "Kevin Turning Right.\n"
     ]
    }
   ],
   "source": [
    "robot.turnright()"
   ]
  },
  {
   "cell_type": "code",
   "execution_count": 66,
   "metadata": {},
   "outputs": [
    {
     "name": "stdout",
     "output_type": "stream",
     "text": [
      "Kevin sitting Down.\n"
     ]
    }
   ],
   "source": [
    "robot.sit()"
   ]
  },
  {
   "cell_type": "code",
   "execution_count": 25,
   "metadata": {},
   "outputs": [],
   "source": [
    "robot.swing()"
   ]
  },
  {
   "cell_type": "code",
   "execution_count": 26,
   "metadata": {},
   "outputs": [
    {
     "name": "stdout",
     "output_type": "stream",
     "text": [
      "Kevin sitting Down.\n"
     ]
    }
   ],
   "source": [
    "robot.sit()"
   ]
  },
  {
   "cell_type": "code",
   "execution_count": 27,
   "metadata": {},
   "outputs": [],
   "source": [
    "from smars_library.channel import Channel"
   ]
  },
  {
   "cell_type": "code",
   "execution_count": 48,
   "metadata": {},
   "outputs": [],
   "source": [
    "SLEEP_COUNT = 0.05"
   ]
  },
  {
   "cell_type": "code",
   "execution_count": 49,
   "metadata": {},
   "outputs": [],
   "source": [
    "import time"
   ]
  },
  {
   "cell_type": "code",
   "execution_count": 28,
   "metadata": {},
   "outputs": [],
   "source": [
    "chan = Channel()"
   ]
  },
  {
   "cell_type": "code",
   "execution_count": 35,
   "metadata": {},
   "outputs": [
    {
     "name": "stdout",
     "output_type": "stream",
     "text": [
      "0\n",
      "LEFT_LEG_FRONT\n",
      "2\n",
      "LEFT_LEG_BACK\n",
      "6\n",
      "RIGHT_LEG_FRONT\n",
      "4\n",
      "RIGHT_LEG_BACK\n"
     ]
    }
   ],
   "source": [
    "for item in robot._SmarsRobot__legs:\n",
    "    item.show()"
   ]
  },
  {
   "cell_type": "code",
   "execution_count": 41,
   "metadata": {},
   "outputs": [
    {
     "name": "stdout",
     "output_type": "stream",
     "text": [
      "Kevin sitting Down.\n",
      "Kevin standing up.\n"
     ]
    }
   ],
   "source": [
    "robot.sit()\n",
    "robot._SmarsRobot__legs[chan.LEFT_LEG_FRONT].body()\n",
    "robot._SmarsRobot__legs[chan.LEFT_LEG_BACK].body()\n",
    "robot._SmarsRobot__legs[chan.RIGHT_LEG_FRONT].swing()\n",
    "robot._SmarsRobot__legs[chan.RIGHT_LEG_BACK].swing()\n",
    "robot.stand()"
   ]
  },
  {
   "cell_type": "code",
   "execution_count": 59,
   "metadata": {},
   "outputs": [
    {
     "name": "stdout",
     "output_type": "stream",
     "text": [
      "LEFT_LEG_FRONT\n",
      "is inverted\n",
      "LEFT_LEG_BACK\n",
      "is not inverted\n",
      "RIGHT_LEG_FRONT\n",
      "is not inverted\n",
      "RIGHT_LEG_BACK\n",
      "is inverted\n"
     ]
    }
   ],
   "source": [
    "for tick_count in range(0, 4):\n",
    "    print(robot._SmarsRobot__legs[tick_count].name)\n",
    "    if not robot._SmarsRobot__legs[tick_count].tick():\n",
    "        robot._SmarsRobot__legs[tick_count].tick()\n",
    "    else:\n",
    "        robot._SmarsRobot__feet[tick_count].up()\n",
    "        time.sleep(SLEEP_COUNT)\n",
    "        \n",
    "        # change this to left and right legs, rather than invert or not invert\n",
    "        if not robot._SmarsRobot__legs[tick_count].invert:\n",
    "            print(\"is not inverted\")\n",
    "            if robot._SmarsRobot__legs[tick_count].name == \"right_leg_front\":\n",
    "                robot._SmarsRobot.__legs[tick_count].stretch()\n",
    "            else:\n",
    "                robot._SmarsRobot__legs[tick_count].body()\n",
    "        elif robot._SmarsRobot__legs[tick_count].invert:\n",
    "            print(\"is inverted\")\n",
    "            if robot._SmarsRobot__legs[tick_count].name == \"right_leg_back\":\n",
    "                robot._SmarsRobot__legs[tick_count].body()\n",
    "            else:\n",
    "                robot._SmarsRobot__legs[tick_count].stretch()\n",
    "        time.sleep(SLEEP_COUNT)\n",
    "        robot._SmarsRobot__feet[tick_count].down()\n",
    "        time.sleep(SLEEP_COUNT)"
   ]
  },
  {
   "cell_type": "code",
   "execution_count": null,
   "metadata": {},
   "outputs": [],
   "source": [
    "for tick_count in range(0, 4):\n",
    "    robot._SmarsRobot__feet[RIGHT_FRONT_FOOT].up()\n",
    "    robot._SmarsRobot__legs[LEFT_LEG_FRONT].tick()\n",
    "    robot._SmarsRobot__feet[RIGHT_FRONT_FOOT].down()"
   ]
  },
  {
   "cell_type": "code",
   "execution_count": null,
   "metadata": {},
   "outputs": [],
   "source": []
  }
 ],
 "metadata": {
  "kernelspec": {
   "display_name": "Python 3",
   "language": "python",
   "name": "python3"
  },
  "language_info": {
   "codemirror_mode": {
    "name": "ipython",
    "version": 3
   },
   "file_extension": ".py",
   "mimetype": "text/x-python",
   "name": "python",
   "nbconvert_exporter": "python",
   "pygments_lexer": "ipython3",
   "version": "3.8.2-final"
  }
 },
 "nbformat": 4,
 "nbformat_minor": 4
}